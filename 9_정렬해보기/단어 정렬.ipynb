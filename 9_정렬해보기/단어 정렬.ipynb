{
 "cells": [
  {
   "cell_type": "code",
   "execution_count": null,
   "metadata": {},
   "outputs": [],
   "source": [
    "import sys\n",
    "\n",
    "\n",
    "def len_sort(a):\n",
    "    a=sorted(a,key=len)\n",
    "    return a\n",
    "\n",
    "def same_check(a):\n",
    "    for i in range(len(a)-1):\n",
    "        if a[i]==a[i+1]:\n",
    "            a[i]=0\n",
    "            \n",
    "    return a\n",
    "\n",
    "\n",
    "\n",
    "n=int(sys.stdin.readline().rstrip())\n",
    "a=[]\n",
    "for i in range(n):\n",
    "    a+=[sys.stdin.readline().rstrip()]\n",
    "a=same_check(len_sort(sorted(a)))\n",
    "for i in a:\n",
    "    if i!=0:\n",
    "        print(i)"
   ]
  }
 ],
 "metadata": {
  "kernelspec": {
   "display_name": "Python 3",
   "language": "python",
   "name": "python3"
  },
  "language_info": {
   "codemirror_mode": {
    "name": "ipython",
    "version": 3
   },
   "file_extension": ".py",
   "mimetype": "text/x-python",
   "name": "python",
   "nbconvert_exporter": "python",
   "pygments_lexer": "ipython3",
   "version": "3.6.6"
  }
 },
 "nbformat": 4,
 "nbformat_minor": 2
}
