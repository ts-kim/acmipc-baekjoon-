{
 "cells": [
  {
   "cell_type": "code",
   "execution_count": null,
   "metadata": {},
   "outputs": [],
   "source": [
    "from collections import Counter\n",
    "\n",
    "def mode(a):\n",
    "    b=Counter(a)\n",
    "    mode=b.most_common()\n",
    "    if len(mode)>1 and mode[1][1]==mode[0][1]:\n",
    "        return mode[1][0]\n",
    "    else:\n",
    "        return mode[0][0]\n",
    "    \n",
    "def stat(a):\n",
    "    print('{0:.0f}'.format(sum(a)/len(a))) # 산술평균\n",
    "    print(sorted(a)[len(a)//2]) # 중앙값\n",
    "    print(mode(sorted(a))) # 최빈값\n",
    "    print(max(a)-min(a))\n",
    "\n",
    "import sys\n",
    "a=[]\n",
    "n=int(sys.stdin.readline().rstrip())\n",
    "for i in range(n):\n",
    "    a.append(int(sys.stdin.readline().rstrip()))\n",
    "stat(a)"
   ]
  }
 ],
 "metadata": {
  "kernelspec": {
   "display_name": "Python 3",
   "language": "python",
   "name": "python3"
  },
  "language_info": {
   "codemirror_mode": {
    "name": "ipython",
    "version": 3
   },
   "file_extension": ".py",
   "mimetype": "text/x-python",
   "name": "python",
   "nbconvert_exporter": "python",
   "pygments_lexer": "ipython3",
   "version": "3.6.6"
  }
 },
 "nbformat": 4,
 "nbformat_minor": 2
}
