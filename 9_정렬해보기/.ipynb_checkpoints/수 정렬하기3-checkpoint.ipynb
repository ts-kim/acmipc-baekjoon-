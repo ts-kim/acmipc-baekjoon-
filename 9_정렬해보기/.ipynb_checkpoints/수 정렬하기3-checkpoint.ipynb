{
 "cells": [
  {
   "cell_type": "code",
   "execution_count": null,
   "metadata": {},
   "outputs": [],
   "source": [
    "import sys\n",
    "\n",
    "n=int(input())\n",
    "check=[0 for i in range(10001)]\n",
    "\n",
    "for i in range(n):\n",
    "    check[int(sys.stdin.readline().rstrip())]+=1\n",
    "\n",
    "for i in range(len(check)):\n",
    "    for j in range(check[i]):\n",
    "        print(i)\n"
   ]
  }
 ],
 "metadata": {
  "kernelspec": {
   "display_name": "Python 3",
   "language": "python",
   "name": "python3"
  },
  "language_info": {
   "codemirror_mode": {
    "name": "ipython",
    "version": 3
   },
   "file_extension": ".py",
   "mimetype": "text/x-python",
   "name": "python",
   "nbconvert_exporter": "python",
   "pygments_lexer": "ipython3",
   "version": "3.6.6"
  }
 },
 "nbformat": 4,
 "nbformat_minor": 2
}
