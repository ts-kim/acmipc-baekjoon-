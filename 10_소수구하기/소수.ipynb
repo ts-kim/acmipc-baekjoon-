{
 "cells": [
  {
   "cell_type": "code",
   "execution_count": null,
   "metadata": {},
   "outputs": [],
   "source": [
    "import math\n",
    "\n",
    "\n",
    "def making_sosu(num,sosu):\n",
    "    for i in range(sosu[len(sosu)-1]+1,num+1):\n",
    "        sqrt_i=math.sqrt(i)\n",
    "        flag = True\n",
    "        for j in sosu:\n",
    "            if j>sqrt_i:\n",
    "                break\n",
    "            elif i%j==0:\n",
    "                flag = False\n",
    "        if flag == True:\n",
    "            sosu.append(i)\n",
    "    return sosu\n",
    "\n",
    "def check(i,sosu):\n",
    "    if i>sosu[len(sosu)-1]:\n",
    "        sosu=making_sosu(i,sosu)\n",
    "        \n",
    "    if i in sosu:\n",
    "        return i, sosu\n",
    "    else :\n",
    "        return 0, sosu\n",
    "\n",
    "\n",
    "M=int(input())\n",
    "N=int(input())\n",
    "result=0\n",
    "sosu=[2,3,5,7,11]\n",
    "min_sosu=10001\n",
    "for i in range(M,N+1):\n",
    "    num, sosu=check(i,sosu)\n",
    "    result+=num\n",
    "    if min_sosu>num and num in sosu:\n",
    "        min_sosu=num\n",
    "if min_sosu > 10000 :\n",
    "    print(-1)\n",
    "else:\n",
    "    print(result)\n",
    "    print(min_sosu)"
   ]
  }
 ],
 "metadata": {
  "kernelspec": {
   "display_name": "Python 3",
   "language": "python",
   "name": "python3"
  },
  "language_info": {
   "codemirror_mode": {
    "name": "ipython",
    "version": 3
   },
   "file_extension": ".py",
   "mimetype": "text/x-python",
   "name": "python",
   "nbconvert_exporter": "python",
   "pygments_lexer": "ipython3",
   "version": "3.6.6"
  }
 },
 "nbformat": 4,
 "nbformat_minor": 2
}
