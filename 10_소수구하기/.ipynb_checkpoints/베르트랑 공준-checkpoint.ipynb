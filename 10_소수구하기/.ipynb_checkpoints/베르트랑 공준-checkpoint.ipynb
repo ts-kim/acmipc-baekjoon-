{
 "cells": [
  {
   "cell_type": "code",
   "execution_count": null,
   "metadata": {},
   "outputs": [],
   "source": [
    "import math\n",
    "\n",
    "def sosu_maker(N):\n",
    "    sqrt=int(math.sqrt(N+1))+1\n",
    "    sosu= [i for i in range(N+1)]\n",
    "    sosu[0]=0\n",
    "    sosu[1]=0\n",
    "    for i in range(2,sqrt):\n",
    "        if sosu[i]!=0:\n",
    "            j=2\n",
    "            k=i*j\n",
    "            while k<N+1:\n",
    "                sosu[k]=0\n",
    "                j+=1\n",
    "                k=i*j\n",
    "    return sosu\n",
    "\n",
    "import sys\n",
    "\n",
    "while True:\n",
    "    n=int(sys.stdin.readline().rstrip())\n",
    "    if n == 0 :\n",
    "        break\n",
    "    sosu=sosu_maker(2*n)\n",
    "    total=0\n",
    "    for i in range(n+1,2*n+1):\n",
    "        if i == sosu[i]:\n",
    "            total+=1\n",
    "    print(total)"
   ]
  }
 ],
 "metadata": {
  "kernelspec": {
   "display_name": "Python 3",
   "language": "python",
   "name": "python3"
  },
  "language_info": {
   "codemirror_mode": {
    "name": "ipython",
    "version": 3
   },
   "file_extension": ".py",
   "mimetype": "text/x-python",
   "name": "python",
   "nbconvert_exporter": "python",
   "pygments_lexer": "ipython3",
   "version": "3.6.6"
  }
 },
 "nbformat": 4,
 "nbformat_minor": 2
}
