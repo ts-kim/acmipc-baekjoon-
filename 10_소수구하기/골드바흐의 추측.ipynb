{
 "cells": [
  {
   "cell_type": "code",
   "execution_count": null,
   "metadata": {},
   "outputs": [],
   "source": [
    "import math\n",
    "\n",
    "def sosu_maker(N):\n",
    "    sqrt=int(math.sqrt(N+1))+1\n",
    "    sosu= [i for i in range(N+1)]\n",
    "    sosu[0]=0\n",
    "    sosu[1]=0\n",
    "    for i in range(2,sqrt):\n",
    "        if sosu[i]!=0:\n",
    "            j=2\n",
    "            k=i*j\n",
    "            while k<N+1:\n",
    "                sosu[k]=0\n",
    "                j+=1\n",
    "                k=i*j\n",
    "    return sosu\n",
    "\n",
    "def gold_bach(a,sosu):\n",
    "    num=[]\n",
    "    for i in range(a//2+1):\n",
    "        if sosu[i]!=0 and (a-sosu[i]) == sosu[a-i]:\n",
    "            num+=[[sosu[i],sosu[a-i]]]\n",
    "    return num\n",
    "\n",
    "\n",
    "\n",
    "import sys\n",
    "n=int(input())\n",
    "sosu=sosu_maker(10000)\n",
    "for i in range(n):\n",
    "    a=int(sys.stdin.readline().rstrip())\n",
    "    print(' '.join(list(map(str,gold_bach(a,sosu)[-1]))))"
   ]
  }
 ],
 "metadata": {
  "kernelspec": {
   "display_name": "Python 3",
   "language": "python",
   "name": "python3"
  },
  "language_info": {
   "codemirror_mode": {
    "name": "ipython",
    "version": 3
   },
   "file_extension": ".py",
   "mimetype": "text/x-python",
   "name": "python",
   "nbconvert_exporter": "python",
   "pygments_lexer": "ipython3",
   "version": "3.6.6"
  }
 },
 "nbformat": 4,
 "nbformat_minor": 2
}
