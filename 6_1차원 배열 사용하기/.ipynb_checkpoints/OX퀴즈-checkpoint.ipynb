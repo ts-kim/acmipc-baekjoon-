{
 "cells": [
  {
   "cell_type": "code",
   "execution_count": null,
   "metadata": {},
   "outputs": [],
   "source": [
    "def aa():\n",
    "    a=input()\n",
    "    score=[0 for i in range(len(a))]\n",
    "    for i in range(len(a)):\n",
    "        if a[i]=='X':\n",
    "            score[i]=0\n",
    "        elif a[i]=='O' and i>0:\n",
    "            score[i]=score[i-1]+1\n",
    "        elif a[i]=='O' and i==0:\n",
    "            score[i]=1\n",
    "    return sum(score)\n",
    "\n",
    "a=int(input())\n",
    "for i in range(a):\n",
    "    print(aa())\n",
    "    "
   ]
  }
 ],
 "metadata": {
  "kernelspec": {
   "display_name": "Python 3",
   "language": "python",
   "name": "python3"
  },
  "language_info": {
   "codemirror_mode": {
    "name": "ipython",
    "version": 3
   },
   "file_extension": ".py",
   "mimetype": "text/x-python",
   "name": "python",
   "nbconvert_exporter": "python",
   "pygments_lexer": "ipython3",
   "version": "3.6.6"
  }
 },
 "nbformat": 4,
 "nbformat_minor": 2
}
