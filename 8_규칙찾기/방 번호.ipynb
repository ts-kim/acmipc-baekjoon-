{
 "cells": [
  {
   "cell_type": "code",
   "execution_count": null,
   "metadata": {},
   "outputs": [],
   "source": [
    "n=input()\n",
    "a=[0 for i in range(10)]\n",
    "for num in n:\n",
    "    a[int(num)]+=1\n",
    "if (a[6]+a[9])%2==1:\n",
    "    a[9]=(a[6]+a[9])//2+1\n",
    "else: \n",
    "    a[9]=(a[6]+a[9])//2\n",
    "a[6]-=a[6]\n",
    "print('{0:.0f}'.format(max(a)))"
   ]
  }
 ],
 "metadata": {
  "kernelspec": {
   "display_name": "Python 3",
   "language": "python",
   "name": "python3"
  },
  "language_info": {
   "codemirror_mode": {
    "name": "ipython",
    "version": 3
   },
   "file_extension": ".py",
   "mimetype": "text/x-python",
   "name": "python",
   "nbconvert_exporter": "python",
   "pygments_lexer": "ipython3",
   "version": "3.6.6"
  }
 },
 "nbformat": 4,
 "nbformat_minor": 2
}
