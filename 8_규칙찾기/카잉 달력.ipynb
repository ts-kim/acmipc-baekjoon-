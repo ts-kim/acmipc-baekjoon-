{
 "cells": [
  {
   "cell_type": "code",
   "execution_count": null,
   "metadata": {},
   "outputs": [],
   "source": [
    "def aa(args):\n",
    "    m,n,x,y=list(map(int,args.split()))\n",
    "    # 10 12 -> 1 (y) : 1번째, 11번째, 21번째, 31번째 : i => i%m=x , i%n = y :  i=m*() +x , i=n*{}+y\n",
    "    # 10 12 3 9 : 33=10*(3)+3 or 12*(2)+9\n",
    "    for i in range(0,m*n,m):\n",
    "        if (i+x-y)%n == 0 :\n",
    "            return i+x\n",
    "    return -1\n",
    "\n",
    "n=int(input())\n",
    "for i in range(n):\n",
    "    print(aa(input()))"
   ]
  }
 ],
 "metadata": {
  "kernelspec": {
   "display_name": "Python 3",
   "language": "python",
   "name": "python3"
  },
  "language_info": {
   "codemirror_mode": {
    "name": "ipython",
    "version": 3
   },
   "file_extension": ".py",
   "mimetype": "text/x-python",
   "name": "python",
   "nbconvert_exporter": "python",
   "pygments_lexer": "ipython3",
   "version": "3.6.6"
  }
 },
 "nbformat": 4,
 "nbformat_minor": 2
}
