{
 "cells": [
  {
   "cell_type": "code",
   "execution_count": null,
   "metadata": {},
   "outputs": [],
   "source": [
    "a=int(input())\n",
    "i=1\n",
    "while True:\n",
    "    a-=i\n",
    "    i+=1\n",
    "    if a<=0:\n",
    "        a+=i\n",
    "        if i%2!=1:\n",
    "            print(str(i-a+1)+'/'+str(a-1))\n",
    "        else :\n",
    "            print(str(a-1)+'/'+str(i-a+1))\n",
    "        break\n",
    "        "
   ]
  }
 ],
 "metadata": {
  "kernelspec": {
   "display_name": "Python 3",
   "language": "python",
   "name": "python3"
  },
  "language_info": {
   "codemirror_mode": {
    "name": "ipython",
    "version": 3
   },
   "file_extension": ".py",
   "mimetype": "text/x-python",
   "name": "python",
   "nbconvert_exporter": "python",
   "pygments_lexer": "ipython3",
   "version": "3.6.6"
  }
 },
 "nbformat": 4,
 "nbformat_minor": 2
}
