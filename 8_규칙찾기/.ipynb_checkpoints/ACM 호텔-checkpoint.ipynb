{
 "cells": [
  {
   "cell_type": "code",
   "execution_count": null,
   "metadata": {},
   "outputs": [],
   "source": [
    "def aa(H,W,N):\n",
    "    if N%H==0:\n",
    "        a=H\n",
    "    else: \n",
    "        a=N%H\n",
    "    if N%H==0:\n",
    "        b=N//H\n",
    "    else:\n",
    "        b=N//H+1\n",
    "    if b<10:\n",
    "        b='0'+str(b)\n",
    "    return str(a)+str(b)\n",
    "\n",
    "\n",
    "n = int(input())\n",
    "for i in range(n):\n",
    "    H,W,N = list(map(int,input().split()))\n",
    "    print(aa(H,W,N))"
   ]
  }
 ],
 "metadata": {
  "kernelspec": {
   "display_name": "Python 3",
   "language": "python",
   "name": "python3"
  },
  "language_info": {
   "codemirror_mode": {
    "name": "ipython",
    "version": 3
   },
   "file_extension": ".py",
   "mimetype": "text/x-python",
   "name": "python",
   "nbconvert_exporter": "python",
   "pygments_lexer": "ipython3",
   "version": "3.6.6"
  }
 },
 "nbformat": 4,
 "nbformat_minor": 2
}
