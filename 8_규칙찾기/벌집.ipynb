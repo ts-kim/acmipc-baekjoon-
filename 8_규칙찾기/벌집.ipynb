{
 "cells": [
  {
   "cell_type": "code",
   "execution_count": null,
   "metadata": {},
   "outputs": [],
   "source": [
    "a=int(input())\n",
    "i=0\n",
    "a=a-1\n",
    "if a==0:\n",
    "    print(1)\n",
    "else:\n",
    "    while True:\n",
    "        a-=6*i\n",
    "        i+=1\n",
    "        if a<=0:\n",
    "            print(i)\n",
    "            break"
   ]
  }
 ],
 "metadata": {
  "kernelspec": {
   "display_name": "Python 3",
   "language": "python",
   "name": "python3"
  },
  "language_info": {
   "codemirror_mode": {
    "name": "ipython",
    "version": 3
   },
   "file_extension": ".py",
   "mimetype": "text/x-python",
   "name": "python",
   "nbconvert_exporter": "python",
   "pygments_lexer": "ipython3",
   "version": "3.6.6"
  }
 },
 "nbformat": 4,
 "nbformat_minor": 2
}
