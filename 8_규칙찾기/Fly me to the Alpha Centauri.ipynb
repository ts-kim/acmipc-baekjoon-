{
 "cells": [
  {
   "cell_type": "code",
   "execution_count": null,
   "metadata": {},
   "outputs": [],
   "source": [
    "def aa(a):\n",
    "    #1 -> 1 :1\n",
    "    #2 -> 1,1 :2\n",
    "    #3 -> 1,1,1\n",
    "    #4 -> 1,2,1 :3\n",
    "    #5 -> 1,2,1,1\n",
    "    #6 -> 1,2,2,1 :4\n",
    "    #7 -> 1,2,1,2,1\n",
    "    #8 -> 1,2,2,2,1\n",
    "    #9 -> 1,2,3,2,1 :5 \n",
    "    #12 -> 1,2,3,3,2,1 : 6\n",
    "    #16 ->                :7\n",
    "    #20 -> 1,2,3,4,4,3,2,1 : 8\n",
    "    i=1\n",
    "    j=0\n",
    "    while True:\n",
    "        for k in range(2):\n",
    "            j+=1\n",
    "            a=a-i\n",
    "            if a<=0:\n",
    "                return j\n",
    "        i+=1\n",
    "        \n",
    "n=int(input())\n",
    "for i in range(n):\n",
    "    a=list(map(int,input().split()))\n",
    "    distance=a[1]-a[0]\n",
    "    print(aa(distance))\n"
   ]
  }
 ],
 "metadata": {
  "kernelspec": {
   "display_name": "Python 3",
   "language": "python",
   "name": "python3"
  },
  "language_info": {
   "codemirror_mode": {
    "name": "ipython",
    "version": 3
   },
   "file_extension": ".py",
   "mimetype": "text/x-python",
   "name": "python",
   "nbconvert_exporter": "python",
   "pygments_lexer": "ipython3",
   "version": "3.6.6"
  }
 },
 "nbformat": 4,
 "nbformat_minor": 2
}
