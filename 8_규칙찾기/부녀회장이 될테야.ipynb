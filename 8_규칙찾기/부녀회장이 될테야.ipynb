{
 "cells": [
  {
   "cell_type": "code",
   "execution_count": null,
   "metadata": {},
   "outputs": [],
   "source": [
    "def aa(k,n):\n",
    "    a=[[i for i in range(1,n+1)] for j in range(k+1)] # 0층       \n",
    "    for i in range(1,k+1):\n",
    "        for j in range(n):\n",
    "            a[i][j]=sum(a[i-1][:j+1])\n",
    "    return a[k][n-1]\n",
    "\n",
    "n = int(input())\n",
    "for i in range(n):\n",
    "    k = int(input())\n",
    "    n = int(input())\n",
    "    print(aa(k,n))"
   ]
  }
 ],
 "metadata": {
  "kernelspec": {
   "display_name": "Python 3",
   "language": "python",
   "name": "python3"
  },
  "language_info": {
   "codemirror_mode": {
    "name": "ipython",
    "version": 3
   },
   "file_extension": ".py",
   "mimetype": "text/x-python",
   "name": "python",
   "nbconvert_exporter": "python",
   "pygments_lexer": "ipython3",
   "version": "3.6.6"
  }
 },
 "nbformat": 4,
 "nbformat_minor": 2
}
