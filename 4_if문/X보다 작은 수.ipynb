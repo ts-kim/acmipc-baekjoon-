{
 "cells": [
  {
   "cell_type": "code",
   "execution_count": null,
   "metadata": {},
   "outputs": [],
   "source": [
    "inp=input().split()\n",
    "N=int(inp[0])\n",
    "X=int(inp[1])\n",
    "Num=input().split()\n",
    "A=[]\n",
    "for i in range (N):\n",
    "    if int(Num[i])<X:\n",
    "        A.append(Num[i])\n",
    "for i in range (len(A)):\n",
    "    print(A[i],end=' ')"
   ]
  }
 ],
 "metadata": {
  "kernelspec": {
   "display_name": "Python 3",
   "language": "python",
   "name": "python3"
  },
  "language_info": {
   "codemirror_mode": {
    "name": "ipython",
    "version": 3
   },
   "file_extension": ".py",
   "mimetype": "text/x-python",
   "name": "python",
   "nbconvert_exporter": "python",
   "pygments_lexer": "ipython3",
   "version": "3.6.6"
  }
 },
 "nbformat": 4,
 "nbformat_minor": 2
}
