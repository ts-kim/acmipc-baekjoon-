{
 "cells": [
  {
   "cell_type": "code",
   "execution_count": null,
   "metadata": {},
   "outputs": [],
   "source": [
    "def aa(num):\n",
    "    a=num%10\n",
    "    b=num//10\n",
    "    return (a+b)%10+a*10\n",
    "\n",
    "a=int(input())\n",
    "b=aa(a)\n",
    "i=1\n",
    "\n",
    "while b!=a:\n",
    "    i+=1\n",
    "    b=aa(b)\n",
    "print(i)\n"
   ]
  }
 ],
 "metadata": {
  "kernelspec": {
   "display_name": "Python 3",
   "language": "python",
   "name": "python3"
  },
  "language_info": {
   "codemirror_mode": {
    "name": "ipython",
    "version": 3
   },
   "file_extension": ".py",
   "mimetype": "text/x-python",
   "name": "python",
   "nbconvert_exporter": "python",
   "pygments_lexer": "ipython3",
   "version": "3.6.6"
  }
 },
 "nbformat": 4,
 "nbformat_minor": 2
}
