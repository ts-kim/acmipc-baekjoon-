{
 "cells": [
  {
   "cell_type": "code",
   "execution_count": null,
   "metadata": {},
   "outputs": [],
   "source": [
    "_=int(input())\n",
    "for i in range(_):\n",
    "    a=list(map(int,input().split()))\n",
    "    avg=sum(a[1:])/(len(a)-1)\n",
    "    b=[x for x in a[1:] if x > avg]\n",
    "    print('{0:.3f}%'.format( len(b)/(len(a)-1)*100 ))"
   ]
  }
 ],
 "metadata": {
  "kernelspec": {
   "display_name": "Python 3",
   "language": "python",
   "name": "python3"
  },
  "language_info": {
   "codemirror_mode": {
    "name": "ipython",
    "version": 3
   },
   "file_extension": ".py",
   "mimetype": "text/x-python",
   "name": "python",
   "nbconvert_exporter": "python",
   "pygments_lexer": "ipython3",
   "version": "3.6.6"
  }
 },
 "nbformat": 4,
 "nbformat_minor": 2
}
