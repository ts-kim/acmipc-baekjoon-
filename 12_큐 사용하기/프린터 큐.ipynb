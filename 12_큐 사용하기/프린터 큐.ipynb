{
 "cells": [
  {
   "cell_type": "code",
   "execution_count": null,
   "metadata": {},
   "outputs": [],
   "source": [
    "import sys\n",
    "\n",
    "\n",
    "case=int(sys.stdin.readline().rstrip())\n",
    "for i in range(case):\n",
    "    N, idx = list(map(int,sys.stdin.readline().rstrip().split()))\n",
    "    q = list(map(int,sys.stdin.readline().rstrip().split()))\n",
    "    start=0\n",
    "    result=1\n",
    "    Min=min(q)\n",
    "    while True:\n",
    "        if max(q)>q[idx]:\n",
    "            start=q.index(max(q))\n",
    "            q[start]=Min-1\n",
    "            result+=1\n",
    "            q=q[start:]+q[:start]\n",
    "            idx+=N-start\n",
    "            if idx>=N:\n",
    "                idx-=N\n",
    "        elif max(q)==q[idx]:\n",
    "            for i in range(idx):\n",
    "                k=i\n",
    "                if k>=N:\n",
    "                    k-=N\n",
    "                if q[k]==q[idx]:\n",
    "                    result+=1\n",
    "            break\n",
    "    print(result)    \n",
    "        "
   ]
  }
 ],
 "metadata": {
  "kernelspec": {
   "display_name": "Python 3",
   "language": "python",
   "name": "python3"
  },
  "language_info": {
   "codemirror_mode": {
    "name": "ipython",
    "version": 3
   },
   "file_extension": ".py",
   "mimetype": "text/x-python",
   "name": "python",
   "nbconvert_exporter": "python",
   "pygments_lexer": "ipython3",
   "version": "3.6.6"
  }
 },
 "nbformat": 4,
 "nbformat_minor": 2
}
