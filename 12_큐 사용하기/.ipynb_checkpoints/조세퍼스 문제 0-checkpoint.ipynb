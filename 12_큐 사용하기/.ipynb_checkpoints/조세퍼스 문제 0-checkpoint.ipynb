{
 "cells": [
  {
   "cell_type": "code",
   "execution_count": null,
   "metadata": {},
   "outputs": [],
   "source": [
    "N,M=list(map(int,input().split()))\n",
    "result=[]\n",
    "queue = [i+1 for i in range(N)]\n",
    "\n",
    "while len(result)<N:\n",
    "    num=M%len(queue)\n",
    "    result+=[queue[num-1]]\n",
    "\n",
    "    if num==0:\n",
    "        queue=queue[:-1]\n",
    "    else:\n",
    "        queue=queue[num:]+queue[:num-1]\n",
    "    \n",
    "print('<'+', '.join(list(map(str,result)))+'>')\n",
    "#<3, 6, 2, 7, 5, 1, 4>"
   ]
  }
 ],
 "metadata": {
  "kernelspec": {
   "display_name": "Python 3",
   "language": "python",
   "name": "python3"
  },
  "language_info": {
   "codemirror_mode": {
    "name": "ipython",
    "version": 3
   },
   "file_extension": ".py",
   "mimetype": "text/x-python",
   "name": "python",
   "nbconvert_exporter": "python",
   "pygments_lexer": "ipython3",
   "version": "3.6.6"
  }
 },
 "nbformat": 4,
 "nbformat_minor": 2
}
