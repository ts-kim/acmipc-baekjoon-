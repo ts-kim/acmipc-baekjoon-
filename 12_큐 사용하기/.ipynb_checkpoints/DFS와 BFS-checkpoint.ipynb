{
 "cells": [
  {
   "cell_type": "code",
   "execution_count": null,
   "metadata": {},
   "outputs": [],
   "source": [
    "def DFSvisit(result,n,ms,v):\n",
    "    for j in range(1,n+1):\n",
    "        if ms[v][j]==1 and j not in result:\n",
    "            result+=[j]\n",
    "            result=DFSvisit(result,n,ms,j)\n",
    "    return result\n",
    "\n",
    "def BFSvisit(result,n,ms,v):\n",
    "    idx=0\n",
    "    while True:\n",
    "        for j in range(1,n+1):\n",
    "            if ms[v][j] == 1 and j not in result:\n",
    "                result+=[j]\n",
    "        idx+=1\n",
    "        if idx>=len(result) :\n",
    "            break\n",
    "        v=result[idx]\n",
    "    return result\n",
    "\n",
    "import sys\n",
    "n,m,v=list(map(int,sys.stdin.readline().rstrip().split()))\n",
    "ms=[[0 for i in range(n+1)] for i in range(n+1)]\n",
    "for i in range(m):\n",
    "    a=list(map(int,sys.stdin.readline().rstrip().split()))\n",
    "    ms[a[0]][a[1]]=1\n",
    "    ms[a[1]][a[0]]=1\n",
    "\n",
    "result=[v]\n",
    "print(' '.join(list(map(str,DFSvisit(result,n,ms,v)))))\n",
    "result=[v]\n",
    "print(' '.join(list(map(str,BFSvisit(result,n,ms,v)))))"
   ]
  }
 ],
 "metadata": {
  "kernelspec": {
   "display_name": "Python 3",
   "language": "python",
   "name": "python3"
  },
  "language_info": {
   "codemirror_mode": {
    "name": "ipython",
    "version": 3
   },
   "file_extension": ".py",
   "mimetype": "text/x-python",
   "name": "python",
   "nbconvert_exporter": "python",
   "pygments_lexer": "ipython3",
   "version": "3.6.6"
  }
 },
 "nbformat": 4,
 "nbformat_minor": 2
}
