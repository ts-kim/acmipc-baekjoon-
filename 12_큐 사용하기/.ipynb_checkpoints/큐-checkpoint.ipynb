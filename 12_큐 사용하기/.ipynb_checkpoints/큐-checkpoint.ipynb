{
 "cells": [
  {
   "cell_type": "code",
   "execution_count": null,
   "metadata": {},
   "outputs": [],
   "source": [
    "def do(q,com):\n",
    "    if com[:3]=='pus':\n",
    "        q+=[int(com.split()[1])]\n",
    "    elif com=='pop':\n",
    "        if len(q)>0:\n",
    "            print(q[0])\n",
    "            del q[0]\n",
    "        else :\n",
    "            print(-1)\n",
    "    elif com=='size':\n",
    "        print(len(q))\n",
    "    elif com=='empty':\n",
    "        if len(q)==0:\n",
    "            print(1)\n",
    "        else :\n",
    "            print(0)\n",
    "    elif com=='front':\n",
    "        if len(q)>0:\n",
    "            print(q[0])\n",
    "        else:\n",
    "            print(-1)\n",
    "    elif com=='back':\n",
    "        if len(q)>0:\n",
    "            print(q[-1])\n",
    "        else:\n",
    "            print(-1)\n",
    "        \n",
    "    return q\n",
    "\n",
    "\n",
    "import sys\n",
    "queue=[]\n",
    "n=int(input())\n",
    "for i in range(n):\n",
    "    command=input()\n",
    "    queue=do(queue,command)"
   ]
  }
 ],
 "metadata": {
  "kernelspec": {
   "display_name": "Python 3",
   "language": "python",
   "name": "python3"
  },
  "language_info": {
   "codemirror_mode": {
    "name": "ipython",
    "version": 3
   },
   "file_extension": ".py",
   "mimetype": "text/x-python",
   "name": "python",
   "nbconvert_exporter": "python",
   "pygments_lexer": "ipython3",
   "version": "3.6.6"
  }
 },
 "nbformat": 4,
 "nbformat_minor": 2
}
