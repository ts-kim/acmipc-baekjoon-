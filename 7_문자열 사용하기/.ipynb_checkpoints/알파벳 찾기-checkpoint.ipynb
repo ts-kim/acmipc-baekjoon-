{
 "cells": [
  {
   "cell_type": "code",
   "execution_count": null,
   "metadata": {},
   "outputs": [],
   "source": [
    "a= input()\n",
    "b=[-1 for i in range(26)]\n",
    "for i in range(len(a)):\n",
    "    ok=True\n",
    "    for j in range(i):\n",
    "        if a[i]==a[j]:\n",
    "            ok=False\n",
    "    if ok==True:\n",
    "        b[ord(a[i])-97]=i\n",
    "result=''\n",
    "for i in range(len(b)-1):\n",
    "    result+=str(b[i])+' '\n",
    "result+=str(b[len(b)-1])\n",
    "print(result)"
   ]
  }
 ],
 "metadata": {
  "kernelspec": {
   "display_name": "Python 3",
   "language": "python",
   "name": "python3"
  },
  "language_info": {
   "codemirror_mode": {
    "name": "ipython",
    "version": 3
   },
   "file_extension": ".py",
   "mimetype": "text/x-python",
   "name": "python",
   "nbconvert_exporter": "python",
   "pygments_lexer": "ipython3",
   "version": "3.6.6"
  }
 },
 "nbformat": 4,
 "nbformat_minor": 2
}
