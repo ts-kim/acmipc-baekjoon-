{
 "cells": [
  {
   "cell_type": "code",
   "execution_count": null,
   "metadata": {},
   "outputs": [],
   "source": [
    "a=input()\n",
    "a=a.replace('c=','@')\n",
    "a=a.replace('c-','@')\n",
    "a=a.replace('dz=','@')\n",
    "a=a.replace('d-','@')\n",
    "a=a.replace('lj','@')\n",
    "a=a.replace('nj','@')\n",
    "a=a.replace('s=','@')\n",
    "a=a.replace('z=','@')\n",
    "print(len(a))"
   ]
  }
 ],
 "metadata": {
  "kernelspec": {
   "display_name": "Python 3",
   "language": "python",
   "name": "python3"
  },
  "language_info": {
   "codemirror_mode": {
    "name": "ipython",
    "version": 3
   },
   "file_extension": ".py",
   "mimetype": "text/x-python",
   "name": "python",
   "nbconvert_exporter": "python",
   "pygments_lexer": "ipython3",
   "version": "3.6.6"
  }
 },
 "nbformat": 4,
 "nbformat_minor": 2
}
