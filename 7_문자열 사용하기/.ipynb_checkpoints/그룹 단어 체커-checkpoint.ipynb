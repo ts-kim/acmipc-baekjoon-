{
 "cells": [
  {
   "cell_type": "code",
   "execution_count": null,
   "metadata": {},
   "outputs": [],
   "source": [
    "num_case = int(input())\n",
    "result=0\n",
    "for num in range(num_case):\n",
    "    a=input()\n",
    "    b=[0 for i in range(26)]\n",
    "    b[ord(a[0])-97]+=1\n",
    "    if len(a)>1:\n",
    "        for i in range(1,len(a)):\n",
    "            if a[i]==a[i-1] :\n",
    "                pass\n",
    "            else : \n",
    "                b[ord(a[i])-97]+=1\n",
    "    if max(b)<=1:\n",
    "        result+=1\n",
    "print(result)"
   ]
  }
 ],
 "metadata": {
  "kernelspec": {
   "display_name": "Python 3",
   "language": "python",
   "name": "python3"
  },
  "language_info": {
   "codemirror_mode": {
    "name": "ipython",
    "version": 3
   },
   "file_extension": ".py",
   "mimetype": "text/x-python",
   "name": "python",
   "nbconvert_exporter": "python",
   "pygments_lexer": "ipython3",
   "version": "3.6.6"
  }
 },
 "nbformat": 4,
 "nbformat_minor": 2
}
