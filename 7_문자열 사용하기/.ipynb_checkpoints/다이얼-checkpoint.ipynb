{
 "cells": [
  {
   "cell_type": "code",
   "execution_count": null,
   "metadata": {},
   "outputs": [],
   "source": [
    "a=input()\n",
    "b={'A':3,'B':3,'C':3,'D':4,'E':4,'F':4,'G':5,'H':5,'I':5,'J':6,'K':6,'L':6,'M':7,'N':7,'O':7,'P':8,'Q':8,'R':8,'S':8,'T':9,'U':9,'V':9,'W':10,'X':10,'Y':10,'Z':10}\n",
    "result=0\n",
    "for i in range(len(a)):\n",
    "    result+=b[a[i]]\n",
    "print(result)"
   ]
  }
 ],
 "metadata": {
  "kernelspec": {
   "display_name": "Python 3",
   "language": "python",
   "name": "python3"
  },
  "language_info": {
   "codemirror_mode": {
    "name": "ipython",
    "version": 3
   },
   "file_extension": ".py",
   "mimetype": "text/x-python",
   "name": "python",
   "nbconvert_exporter": "python",
   "pygments_lexer": "ipython3",
   "version": "3.6.6"
  }
 },
 "nbformat": 4,
 "nbformat_minor": 2
}
