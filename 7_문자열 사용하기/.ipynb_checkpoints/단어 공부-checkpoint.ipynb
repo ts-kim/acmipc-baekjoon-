{
 "cells": [
  {
   "cell_type": "code",
   "execution_count": null,
   "metadata": {},
   "outputs": [],
   "source": [
    "import sys\n",
    "\n",
    "n=int(input())\n",
    "check=[0 for i in range(2000001)]\n",
    "\n",
    "for i in range(n):\n",
    "    check[int(input())]+=1\n",
    "\n",
    "for i in range(1000001,2000001):\n",
    "    for j in range(check[i]):\n",
    "        if i<=1000000:\n",
    "            print(i)\n",
    "        else :\n",
    "            print(i-1000000*2-1) #1000001 = -1000000 , #2000000 = -1\n",
    "for i in range(1000001):\n",
    "    for j in range(check[i]):\n",
    "        if i<=1000000:\n",
    "            print(i)\n",
    "        else :\n",
    "            print(i-1000000*2-1) #1000001 = -1000000 , #2000000 = -1"
   ]
  }
 ],
 "metadata": {
  "kernelspec": {
   "display_name": "Python 3",
   "language": "python",
   "name": "python3"
  },
  "language_info": {
   "codemirror_mode": {
    "name": "ipython",
    "version": 3
   },
   "file_extension": ".py",
   "mimetype": "text/x-python",
   "name": "python",
   "nbconvert_exporter": "python",
   "pygments_lexer": "ipython3",
   "version": "3.6.6"
  }
 },
 "nbformat": 4,
 "nbformat_minor": 2
}
