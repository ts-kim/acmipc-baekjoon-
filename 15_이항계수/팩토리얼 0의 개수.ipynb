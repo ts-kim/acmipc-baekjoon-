{
 "cells": [
  {
   "cell_type": "code",
   "execution_count": null,
   "metadata": {},
   "outputs": [],
   "source": [
    "def check(i,_2,_5):\n",
    "    if i%2==0:\n",
    "        _2+=1\n",
    "        _2, _5=check(i//2,_2, _5)\n",
    "    elif i%5==0:\n",
    "        _5+=1\n",
    "        _2, _5=check(i//5,_2, _5)\n",
    "    return _2,_5\n",
    "\n",
    "\n",
    "\n",
    "inp=int(input())\n",
    "count_2=0\n",
    "count_5=0\n",
    "for i in range(2,inp+1):\n",
    "    count_2, count_5=check(i,count_2,count_5)\n",
    "print(min(count_2,count_5))"
   ]
  }
 ],
 "metadata": {
  "kernelspec": {
   "display_name": "Python 3",
   "language": "python",
   "name": "python3"
  },
  "language_info": {
   "codemirror_mode": {
    "name": "ipython",
    "version": 3
   },
   "file_extension": ".py",
   "mimetype": "text/x-python",
   "name": "python",
   "nbconvert_exporter": "python",
   "pygments_lexer": "ipython3",
   "version": "3.6.6"
  }
 },
 "nbformat": 4,
 "nbformat_minor": 2
}
