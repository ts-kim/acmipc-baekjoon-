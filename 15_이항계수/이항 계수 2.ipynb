{
 "cells": [
  {
   "cell_type": "code",
   "execution_count": null,
   "metadata": {},
   "outputs": [],
   "source": [
    "def NChooseK_fast(n, k):\n",
    "    numerator = 1\n",
    "    denominator = 1\n",
    "    k = min(n-k, k) \n",
    "    for i in range(1, k+1):\n",
    "        denominator *= i\n",
    "        numerator *= n+1-i\n",
    "    return numerator//denominator\n",
    "\n",
    "n,k=list(map(int,input().split()))\n",
    "print(NChooseK_fast(n,k)%10007)"
   ]
  }
 ],
 "metadata": {
  "kernelspec": {
   "display_name": "Python 3",
   "language": "python",
   "name": "python3"
  },
  "language_info": {
   "codemirror_mode": {
    "name": "ipython",
    "version": 3
   },
   "file_extension": ".py",
   "mimetype": "text/x-python",
   "name": "python",
   "nbconvert_exporter": "python",
   "pygments_lexer": "ipython3",
   "version": "3.6.6"
  }
 },
 "nbformat": 4,
 "nbformat_minor": 2
}
