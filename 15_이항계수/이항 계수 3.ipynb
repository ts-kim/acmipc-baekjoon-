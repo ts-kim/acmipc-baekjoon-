{
 "cells": [
  {
   "cell_type": "code",
   "execution_count": null,
   "metadata": {},
   "outputs": [],
   "source": [
    "p=1000000007\n",
    "def squaring(x,n):\n",
    "    x=x%p\n",
    "    if n>2 and n%2==1:\n",
    "        x=x*squaring(x**2,(n-1)//2)\n",
    "    elif n>2 and n%2==0:\n",
    "        x=squaring(x**2,n//2)\n",
    "    elif n==1:\n",
    "        x=x\n",
    "    elif n==0:\n",
    "        x=1000000007\n",
    "    return x%p\n",
    "\n",
    "def NChooseK_mod_p(n, k,p):\n",
    "    a=[i for i in range(n+1)] \n",
    "    for i in range(2,n+1):\n",
    "        a[i]=a[i-1]*a[i]%p\n",
    "        \n",
    "    return a[n]%p * squaring(a[k],p-2)%p * squaring(a[n-k],p-2) %p\n",
    "\n",
    "n,k=list(map(int,input().split()))\n",
    "if k == 0 :\n",
    "    print(1)\n",
    "elif k == n :\n",
    "    print(1)\n",
    "else:\n",
    "    print(NChooseK_mod_p(n,k,p))"
   ]
  }
 ],
 "metadata": {
  "kernelspec": {
   "display_name": "Python 3",
   "language": "python",
   "name": "python3"
  },
  "language_info": {
   "codemirror_mode": {
    "name": "ipython",
    "version": 3
   },
   "file_extension": ".py",
   "mimetype": "text/x-python",
   "name": "python",
   "nbconvert_exporter": "python",
   "pygments_lexer": "ipython3",
   "version": "3.6.6"
  }
 },
 "nbformat": 4,
 "nbformat_minor": 2
}
