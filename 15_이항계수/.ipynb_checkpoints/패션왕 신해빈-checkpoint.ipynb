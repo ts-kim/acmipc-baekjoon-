{
 "cells": [
  {
   "cell_type": "code",
   "execution_count": null,
   "metadata": {},
   "outputs": [],
   "source": [
    "def NChooseK_fast(n, k):\n",
    "    numerator = 1\n",
    "    denominator = 1\n",
    "    k = min(n-k, k) \n",
    "    for i in range(1, k+1):\n",
    "        denominator *= i\n",
    "        numerator *= n+1-i\n",
    "    return numerator//denominator\n",
    "\n",
    "\n",
    "\n",
    "case = int(input())\n",
    "for i in range(case):\n",
    "    n=int(input())\n",
    "    if n==0:\n",
    "        print(0)\n",
    "        continue\n",
    "    ls=[]\n",
    "    for k in range(n):\n",
    "        ls+=[input().split()]\n",
    "    kinds=[]\n",
    "    nums=[]\n",
    "    for j in range(len(ls)):\n",
    "        if ls[j][1] in kinds: \n",
    "            nums[kinds.index(ls[j][1])]+=1\n",
    "        else :\n",
    "            kinds+=[ls[j][1]]\n",
    "            nums+=[1]\n",
    "    result=1\n",
    "    for j in range(len(nums)):\n",
    "        result*=NChooseK_fast(nums[j],0)+NChooseK_fast(nums[j],1)\n",
    "    print(result-1)"
   ]
  }
 ],
 "metadata": {
  "kernelspec": {
   "display_name": "Python 3",
   "language": "python",
   "name": "python3"
  },
  "language_info": {
   "codemirror_mode": {
    "name": "ipython",
    "version": 3
   },
   "file_extension": ".py",
   "mimetype": "text/x-python",
   "name": "python",
   "nbconvert_exporter": "python",
   "pygments_lexer": "ipython3",
   "version": "3.6.6"
  }
 },
 "nbformat": 4,
 "nbformat_minor": 2
}
