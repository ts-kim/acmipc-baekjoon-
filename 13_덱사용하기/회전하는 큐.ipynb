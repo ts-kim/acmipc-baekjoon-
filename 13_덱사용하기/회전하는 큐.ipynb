{
 "cells": [
  {
   "cell_type": "code",
   "execution_count": null,
   "metadata": {},
   "outputs": [],
   "source": [
    "def count(queue,next_num,pres_num,N):\n",
    "    a=0\n",
    "    if next_num>pres_num:\n",
    "        a=min(sum(queue[pres_num:next_num]), sum(queue[next_num:])+sum(queue[:pres_num]) )\n",
    "    else:\n",
    "        a=min(sum(queue[next_num:pres_num]), sum(queue[:next_num])+sum(queue[pres_num:]) )\n",
    "\n",
    "    return a\n",
    "\n",
    "\n",
    "\n",
    "\n",
    "N, M = list(map(int,input().split()))\n",
    "queue=[1 for i in range(N+1)]\n",
    "queue[0]=0\n",
    "nums=[0]+list(map(int,input().split()))\n",
    "result=0\n",
    "for i in range(len(nums)-1):\n",
    "    result+=count(queue,nums[i+1],nums[i],N)\n",
    "    queue[nums[i+1]]=0\n",
    "print(result)"
   ]
  }
 ],
 "metadata": {
  "kernelspec": {
   "display_name": "Python 3",
   "language": "python",
   "name": "python3"
  },
  "language_info": {
   "codemirror_mode": {
    "name": "ipython",
    "version": 3
   },
   "file_extension": ".py",
   "mimetype": "text/x-python",
   "name": "python",
   "nbconvert_exporter": "python",
   "pygments_lexer": "ipython3",
   "version": "3.6.6"
  }
 },
 "nbformat": 4,
 "nbformat_minor": 2
}
