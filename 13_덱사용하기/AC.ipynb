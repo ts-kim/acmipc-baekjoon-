{
 "cells": [
  {
   "cell_type": "code",
   "execution_count": null,
   "metadata": {},
   "outputs": [],
   "source": [
    "def command(ls,c):\n",
    "    R_count=0\n",
    "    for i in c:\n",
    "        if i == 'R' and R_count == 0:\n",
    "            R_count=1\n",
    "        elif i == 'R' and R_count == 1:\n",
    "            R_count=0\n",
    "        elif i == 'D' and R_count == 0:\n",
    "            if len(ls)>0:\n",
    "                del ls[0]\n",
    "            else :\n",
    "                return 'error'\n",
    "        elif i == 'D' and R_count == 1:\n",
    "            if len(ls)>0:\n",
    "                del ls[-1]\n",
    "            else :\n",
    "                return 'error'\n",
    "    if R_count ==1:\n",
    "        ls = list(reversed(ls))\n",
    "    return '['+','.join(list(map(str,ls)))+']'\n",
    "        \n",
    "\n",
    "import sys\n",
    "\n",
    "case=int(sys.stdin.readline().rstrip())\n",
    "for i in range(case):\n",
    "    c=sys.stdin.readline().rstrip()\n",
    "    _=sys.stdin.readline().rstrip()\n",
    "    s=sys.stdin.readline().rstrip()\n",
    "    if len(s)>2:\n",
    "        s=list(map(int,s[1:-1].split(',')))\n",
    "    else:\n",
    "        s=[]\n",
    "    print(command(s,c))"
   ]
  }
 ],
 "metadata": {
  "kernelspec": {
   "display_name": "Python 3",
   "language": "python",
   "name": "python3"
  },
  "language_info": {
   "codemirror_mode": {
    "name": "ipython",
    "version": 3
   },
   "file_extension": ".py",
   "mimetype": "text/x-python",
   "name": "python",
   "nbconvert_exporter": "python",
   "pygments_lexer": "ipython3",
   "version": "3.6.6"
  }
 },
 "nbformat": 4,
 "nbformat_minor": 2
}
