{
 "cells": [
  {
   "cell_type": "code",
   "execution_count": null,
   "metadata": {},
   "outputs": [],
   "source": [
    "def command(deck,command):\n",
    "    if command[0]=='push_back':\n",
    "        deck+=[command[1]]\n",
    "    elif command[0]=='push_front':\n",
    "        temp=[command[1]]\n",
    "        deck=temp+deck\n",
    "    elif command[0]=='pop_front':\n",
    "        if len(deck)>0:\n",
    "            print(deck[0])\n",
    "            del deck[0]\n",
    "        else:\n",
    "            print(-1)\n",
    "    elif command[0]=='pop_back':\n",
    "        if len(deck)>0:\n",
    "            print(deck[-1])\n",
    "            del deck[-1]\n",
    "        else:\n",
    "            print(-1)\n",
    "    elif command[0]=='size':\n",
    "        print(len(deck))\n",
    "    elif command[0]=='empty':\n",
    "        if len(deck)>0:\n",
    "            print(0)\n",
    "        else:\n",
    "            print(1)\n",
    "    elif command[0]=='front':\n",
    "        if len(deck)>0:\n",
    "            print(deck[0])\n",
    "        else:\n",
    "            print(-1)\n",
    "    elif command[0]=='back':\n",
    "        if len(deck)>0:\n",
    "            print(deck[-1])\n",
    "        else:\n",
    "            print(-1)\n",
    "    return deck\n",
    "    \n",
    "import sys\n",
    "deck=[]\n",
    "case=int(sys.stdin.readline().rstrip())\n",
    "for i in range(case):\n",
    "    c = sys.stdin.readline().rstrip().split()\n",
    "    deck = command(deck,c)"
   ]
  }
 ],
 "metadata": {
  "kernelspec": {
   "display_name": "Python 3",
   "language": "python",
   "name": "python3"
  },
  "language_info": {
   "codemirror_mode": {
    "name": "ipython",
    "version": 3
   },
   "file_extension": ".py",
   "mimetype": "text/x-python",
   "name": "python",
   "nbconvert_exporter": "python",
   "pygments_lexer": "ipython3",
   "version": "3.6.6"
  }
 },
 "nbformat": 4,
 "nbformat_minor": 2
}
