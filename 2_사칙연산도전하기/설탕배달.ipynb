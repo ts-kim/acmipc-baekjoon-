{
 "cells": [
  {
   "cell_type": "code",
   "execution_count": null,
   "metadata": {},
   "outputs": [],
   "source": [
    "N=int(input())\n",
    "best_num=10000\n",
    "for i in range(N//5+1):\n",
    "    if (N-5*(i))%3==0 and (i)+(N-5*(i))/3 < best_num :\n",
    "        best_num = (i)+(N-5*(i))/3\n",
    "if best_num ==10000:\n",
    "    print(-1)\n",
    "else:\n",
    "    print(int(best_num))ㅈ"
   ]
  }
 ],
 "metadata": {
  "kernelspec": {
   "display_name": "Python 3",
   "language": "python",
   "name": "python3"
  },
  "language_info": {
   "codemirror_mode": {
    "name": "ipython",
    "version": 3
   },
   "file_extension": ".py",
   "mimetype": "text/x-python",
   "name": "python",
   "nbconvert_exporter": "python",
   "pygments_lexer": "ipython3",
   "version": "3.6.6"
  }
 },
 "nbformat": 4,
 "nbformat_minor": 2
}
