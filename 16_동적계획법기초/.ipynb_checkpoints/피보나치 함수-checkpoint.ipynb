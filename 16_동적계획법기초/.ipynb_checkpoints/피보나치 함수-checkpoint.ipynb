{
 "cells": [
  {
   "cell_type": "code",
   "execution_count": null,
   "metadata": {},
   "outputs": [],
   "source": [
    "a=[0,1]\n",
    "for i in range(2,41):\n",
    "    a+=[a[i-2]+a[i-1]]\n",
    "\n",
    "case=int(input())\n",
    "for i in range(case):\n",
    "    n=int(input())\n",
    "    if n ==0:\n",
    "        print(1,0)\n",
    "    else:\n",
    "        print(a[n-1],a[n])"
   ]
  }
 ],
 "metadata": {
  "kernelspec": {
   "display_name": "Python 3",
   "language": "python",
   "name": "python3"
  },
  "language_info": {
   "codemirror_mode": {
    "name": "ipython",
    "version": 3
   },
   "file_extension": ".py",
   "mimetype": "text/x-python",
   "name": "python",
   "nbconvert_exporter": "python",
   "pygments_lexer": "ipython3",
   "version": "3.6.6"
  }
 },
 "nbformat": 4,
 "nbformat_minor": 2
}
