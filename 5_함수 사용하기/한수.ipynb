{
 "cells": [
  {
   "cell_type": "code",
   "execution_count": null,
   "metadata": {},
   "outputs": [],
   "source": [
    "num=int(input())\n",
    "\n",
    "def aa(a):\n",
    "    ok=True\n",
    "    a=[x for x in str(a)]\n",
    "    if len(a)>2:\n",
    "        for i in range(len(a)-2):\n",
    "            s=(int(a[i+1])-int(a[i])==int(a[i+2])-int(a[i+1]))\n",
    "            if s==False:\n",
    "                ok=False\n",
    "    return ok\n",
    "score=0\n",
    "for i in range(num,0,-1):\n",
    "    if aa(i)==True:\n",
    "        score+=1\n",
    "print(score)"
   ]
  }
 ],
 "metadata": {
  "kernelspec": {
   "display_name": "Python 3",
   "language": "python",
   "name": "python3"
  },
  "language_info": {
   "codemirror_mode": {
    "name": "ipython",
    "version": 3
   },
   "file_extension": ".py",
   "mimetype": "text/x-python",
   "name": "python",
   "nbconvert_exporter": "python",
   "pygments_lexer": "ipython3",
   "version": "3.6.6"
  }
 },
 "nbformat": 4,
 "nbformat_minor": 2
}
