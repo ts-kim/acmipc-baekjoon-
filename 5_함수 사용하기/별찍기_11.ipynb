{
 "cells": [
  {
   "cell_type": "code",
   "execution_count": null,
   "metadata": {},
   "outputs": [],
   "source": [
    "a=int(input())\n",
    "\n",
    "li=[' '* (2*a-1) for i in range(a)] # a by 2a-1 list\n",
    "first_star_x = 0\n",
    "first_star_y = a-1\n",
    "def aa(li,x,y): # x : row , y: col\n",
    "    li[x]=li[x][:y]+'*'+li[x][y+1:]\n",
    "    li[x+1]=li[x+1][:y-1]+'* *'+li[x+1][y+2:]\n",
    "    li[x+2]=li[x+2][:y-2]+'*****'+li[x+2][y+3:]\n",
    "    for i in range(3,len(li)-2,3):\n",
    "        for j in range(2,len(li[0])-2,3):\n",
    "            if (li[i-1][j-1]==' ' and li[i-1][j+1]=='*') or (li[i-1][j+1]==' ' and li[i-1][j-1]=='*'):\n",
    "                li[i]=li[i][:j]+'*'+li[i][j+1:]\n",
    "                li[i+1]=li[i+1][:j-1]+'* *'+li[i+1][j+2:]\n",
    "                li[i+2]=li[i+2][:j-2]+'*****'+li[i+2][j+3:]\n",
    "    return li\n",
    "a=aa(li,first_star_x,first_star_y)\n",
    "for i in range(len(a)):\n",
    "    print(a[i])\n"
   ]
  }
 ],
 "metadata": {
  "kernelspec": {
   "display_name": "Python 3",
   "language": "python",
   "name": "python3"
  },
  "language_info": {
   "codemirror_mode": {
    "name": "ipython",
    "version": 3
   },
   "file_extension": ".py",
   "mimetype": "text/x-python",
   "name": "python",
   "nbconvert_exporter": "python",
   "pygments_lexer": "ipython3",
   "version": "3.6.6"
  }
 },
 "nbformat": 4,
 "nbformat_minor": 2
}
