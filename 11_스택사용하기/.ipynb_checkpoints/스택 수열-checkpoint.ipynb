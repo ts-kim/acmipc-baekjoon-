{
 "cells": [
  {
   "cell_type": "code",
   "execution_count": null,
   "metadata": {},
   "outputs": [],
   "source": [
    "def check(a):\n",
    "    stack=[1]\n",
    "    b=['+']\n",
    "    j=2\n",
    "    for i in range(len(a)):\n",
    "        if len(stack)==0 :\n",
    "            stack+=[j]\n",
    "            j+=1\n",
    "            b+=['+']\n",
    "\n",
    "        if a[i]>=stack[len(stack)-1]:\n",
    "            while stack[len(stack)-1]<a[i]:\n",
    "                stack+=[j]\n",
    "                j+=1\n",
    "                b+=['+']\n",
    "            del stack[len(stack)-1]\n",
    "            b+=['-']\n",
    "        elif a[i]<stack[len(stack)-1]:\n",
    "            print('NO')\n",
    "            return []\n",
    "        \n",
    "    return b\n",
    "\n",
    "\n",
    "import sys\n",
    "\n",
    "n= int(sys.stdin.readline().rstrip())\n",
    "a=[]\n",
    "for i in range(n):\n",
    "    a+=[int(sys.stdin.readline().rstrip())]\n",
    "b=check(a)\n",
    "for i in b:\n",
    "    print(i)"
   ]
  }
 ],
 "metadata": {
  "kernelspec": {
   "display_name": "Python 3",
   "language": "python",
   "name": "python3"
  },
  "language_info": {
   "codemirror_mode": {
    "name": "ipython",
    "version": 3
   },
   "file_extension": ".py",
   "mimetype": "text/x-python",
   "name": "python",
   "nbconvert_exporter": "python",
   "pygments_lexer": "ipython3",
   "version": "3.6.6"
  }
 },
 "nbformat": 4,
 "nbformat_minor": 2
}
