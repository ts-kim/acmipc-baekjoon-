{
 "cells": [
  {
   "cell_type": "code",
   "execution_count": null,
   "metadata": {},
   "outputs": [],
   "source": [
    "def check(inp):\n",
    "    stack=[]\n",
    "    for i in inp:\n",
    "        try:\n",
    "            if i == '(':\n",
    "                stack+=[1]\n",
    "            else :\n",
    "                del stack[0]\n",
    "        except:\n",
    "            return 'NO'\n",
    "    if len(stack)==0:\n",
    "        return 'YES'\n",
    "    else :\n",
    "        return 'NO'\n",
    "\n",
    "import sys\n",
    "\n",
    "n=int(sys.stdin.readline().rstrip())\n",
    "for i in range(n):\n",
    "    print(check(sys.stdin.readline().rstrip()))"
   ]
  }
 ],
 "metadata": {
  "kernelspec": {
   "display_name": "Python 3",
   "language": "python",
   "name": "python3"
  },
  "language_info": {
   "codemirror_mode": {
    "name": "ipython",
    "version": 3
   },
   "file_extension": ".py",
   "mimetype": "text/x-python",
   "name": "python",
   "nbconvert_exporter": "python",
   "pygments_lexer": "ipython3",
   "version": "3.6.6"
  }
 },
 "nbformat": 4,
 "nbformat_minor": 2
}
