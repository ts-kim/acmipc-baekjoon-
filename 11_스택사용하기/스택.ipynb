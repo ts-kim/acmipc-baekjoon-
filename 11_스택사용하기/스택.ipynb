{
 "cells": [
  {
   "cell_type": "code",
   "execution_count": null,
   "metadata": {},
   "outputs": [],
   "source": [
    "def command_stack(stack,inp):\n",
    "    if inp[:4]=='push':\n",
    "        stack+=[inp.split()[1]]\n",
    "    elif inp=='pop':\n",
    "        if len(stack)==0:\n",
    "            print(-1)\n",
    "        else:\n",
    "            print(stack[-1])\n",
    "            del stack[-1]\n",
    "    elif inp=='size':\n",
    "        print(len(stack))\n",
    "    elif inp=='empty':\n",
    "        if len(stack) == 0 :\n",
    "            print(1)\n",
    "        else :\n",
    "            print(0)\n",
    "    elif inp == 'top' : \n",
    "        if len(stack)==0:\n",
    "            print(-1)\n",
    "        else:\n",
    "            print(stack[-1])\n",
    "    return stack\n",
    "        \n",
    "\n",
    "stack=[]\n",
    "n=int(input())\n",
    "for i in range(n):\n",
    "    inp=input()\n",
    "    stack=command_stack(stack,inp)"
   ]
  }
 ],
 "metadata": {
  "kernelspec": {
   "display_name": "Python 3",
   "language": "python",
   "name": "python3"
  },
  "language_info": {
   "codemirror_mode": {
    "name": "ipython",
    "version": 3
   },
   "file_extension": ".py",
   "mimetype": "text/x-python",
   "name": "python",
   "nbconvert_exporter": "python",
   "pygments_lexer": "ipython3",
   "version": "3.6.6"
  }
 },
 "nbformat": 4,
 "nbformat_minor": 2
}
